{
  "nbformat": 4,
  "nbformat_minor": 0,
  "metadata": {
    "colab": {
      "provenance": [],
      "authorship_tag": "ABX9TyP63YTKGKWRTPiV3bn3oGjF",
      "include_colab_link": true
    },
    "kernelspec": {
      "name": "python3",
      "display_name": "Python 3"
    },
    "language_info": {
      "name": "python"
    }
  },
  "cells": [
    {
      "cell_type": "markdown",
      "metadata": {
        "id": "view-in-github",
        "colab_type": "text"
      },
      "source": [
        "<a href=\"https://colab.research.google.com/github/shshahul/Student_database_MongoDB/blob/main/Task2MongoDB.ipynb\" target=\"_parent\"><img src=\"https://colab.research.google.com/assets/colab-badge.svg\" alt=\"Open In Colab\"/></a>"
      ]
    },
    {
      "cell_type": "code",
      "execution_count": null,
      "metadata": {
        "id": "QMEFHxNqth-K",
        "colab": {
          "base_uri": "https://localhost:8080/"
        },
        "outputId": "46eed24f-9cde-4877-f71a-76ba028f8fea"
      },
      "outputs": [
        {
          "output_type": "stream",
          "name": "stdout",
          "text": [
            "Looking in indexes: https://pypi.org/simple, https://us-python.pkg.dev/colab-wheels/public/simple/\n",
            "Requirement already satisfied: pymongo in /usr/local/lib/python3.8/dist-packages (4.3.3)\n",
            "Requirement already satisfied: dnspython<3.0.0,>=1.16.0 in /usr/local/lib/python3.8/dist-packages (from pymongo) (2.2.1)\n"
          ]
        }
      ],
      "source": [
        "!pip install pymongo\n",
        "from pymongo import MongoClient"
      ]
    },
    {
      "cell_type": "code",
      "source": [
        "client = MongoClient(\"enter DB credentials\")"
      ],
      "metadata": {
        "id": "hmnuPlCcvzzZ"
      },
      "execution_count": null,
      "outputs": []
    },
    {
      "cell_type": "code",
      "source": [
        "client.list_database_names()"
      ],
      "metadata": {
        "colab": {
          "base_uri": "https://localhost:8080/"
        },
        "id": "DmrOa7dO8HxA",
        "outputId": "06cce6d3-5167-46a0-f1e2-0ebc7cdf5c48"
      },
      "execution_count": null,
      "outputs": [
        {
          "output_type": "execute_result",
          "data": {
            "text/plain": [
              "['CRUD_task',\n",
              " 'Task2_MongoDB',\n",
              " 'Tweets_database',\n",
              " 'marks',\n",
              " 'sample_airbnb',\n",
              " 'sample_analytics',\n",
              " 'sample_geospatial',\n",
              " 'sample_guides',\n",
              " 'sample_mflix',\n",
              " 'sample_restaurants',\n",
              " 'sample_supplies',\n",
              " 'sample_training',\n",
              " 'sample_weatherdata',\n",
              " 'shahul_db',\n",
              " 'admin',\n",
              " 'local']"
            ]
          },
          "metadata": {},
          "execution_count": 3
        }
      ]
    },
    {
      "cell_type": "markdown",
      "source": [
        "#methods of uploading JSON data\n",
        "1)Mondo db Compass we can directly upload by creating the file \n",
        "2)Another method is by using python "
      ],
      "metadata": {
        "id": "kMGkJXpTWmqC"
      }
    },
    {
      "cell_type": "code",
      "source": [
        "db = client['marks']\n",
        "db.list_collection_names()"
      ],
      "metadata": {
        "colab": {
          "base_uri": "https://localhost:8080/"
        },
        "id": "Jp5O7SMnVpi-",
        "outputId": "ffb5b5a5-3d39-489c-f850-9faad94a1a9f"
      },
      "execution_count": null,
      "outputs": [
        {
          "output_type": "execute_result",
          "data": {
            "text/plain": [
              "['students_data']"
            ]
          },
          "metadata": {},
          "execution_count": 4
        }
      ]
    },
    {
      "cell_type": "code",
      "source": [
        "my_col=db['students_data']"
      ],
      "metadata": {
        "id": "wq556nTGWo6v"
      },
      "execution_count": null,
      "outputs": []
    },
    {
      "cell_type": "code",
      "source": [
        "from pprint import pprint\n",
        "for i in my_col.find():\n",
        "  print(i)\n",
        "  "
      ],
      "metadata": {
        "id": "0eD4QT6iW00t"
      },
      "execution_count": null,
      "outputs": []
    },
    {
      "cell_type": "markdown",
      "source": [
        "1.Find the student name who scored maximum scores in all (exam, quiz and homework)?"
      ],
      "metadata": {
        "id": "sVuDbWt4dq2f"
      }
    },
    {
      "cell_type": "code",
      "source": [
        "#Find the student name who scored maximum scores in all (exam, quiz and homework)?\n",
        "#stage 2 we need to submit (exam, quiz and homework) one by one\n",
        "stage1={\"$unwind\":\"$scores\"}\n",
        "stage2={\"$match\":{\"scores.type\":\"homework\"}}    \n",
        "stage3={\"$sort\":{\"scores.score\":-1}}\n",
        "stage4={\"$limit\":1}\n",
        "stage5={\"$project\":{\"_id\":0,\"name\":1,\"scores.score\":1,\"scores.type\":1}}\n",
        "for i in my_col.aggregate([stage1,stage2,stage3,stage4,stage5]):\n",
        "    pprint(i)\n"
      ],
      "metadata": {
        "colab": {
          "base_uri": "https://localhost:8080/"
        },
        "id": "G62iE7LvqnLI",
        "outputId": "f7a4fdf8-3de8-4c28-ccb6-c5cbab57cfbe"
      },
      "execution_count": null,
      "outputs": [
        {
          "output_type": "stream",
          "name": "stdout",
          "text": [
            "{'name': 'Whitley Fears',\n",
            " 'scores': {'score': 99.77237745070993, 'type': 'homework'}}\n"
          ]
        }
      ]
    },
    {
      "cell_type": "markdown",
      "source": [
        "2)Find students who scored below average in the exam and pass mark is 40%?"
      ],
      "metadata": {
        "id": "gYKhLDV1M0X1"
      }
    },
    {
      "cell_type": "code",
      "source": [
        "stage1 = {\"$unwind\":\"$scores\"}\n",
        "stage2={\"$match\":{\"scores.type\":\"exam\"}}\n",
        "stage3 = {\"$group\": {\"_id\":\"$scores.type\", \"avg_score\":{\"$avg\":\"$scores.score\"}}}\n",
        "for i in my_col.aggregate([stage1,stage2,stage3]):\n",
        "    pprint(i)  \n"
      ],
      "metadata": {
        "colab": {
          "base_uri": "https://localhost:8080/"
        },
        "id": "oGm_4-kdUCWN",
        "outputId": "98e90c6b-c5d9-4a9c-ecfa-b5db50da70ca"
      },
      "execution_count": null,
      "outputs": [
        {
          "output_type": "stream",
          "name": "stdout",
          "text": [
            "{'_id': 'exam', 'avg_score': 48.67367075950175}\n"
          ]
        }
      ]
    },
    {
      "cell_type": "markdown",
      "source": [],
      "metadata": {
        "id": "AlthLQ8Sn5Gv"
      }
    },
    {
      "cell_type": "code",
      "source": [
        "stage1 = {\"$unwind\":\"$scores\"}\n",
        "stage2 = {\"$group\": {\"_id\":\"$scores.type\", \"avg_score\":{\"$avg\":\"$scores.score\"}}}\n",
        "for i in my_col.aggregate([stage1,stage2]):\n",
        "    pprint(i)"
      ],
      "metadata": {
        "colab": {
          "base_uri": "https://localhost:8080/"
        },
        "id": "D6z77cEwz7hc",
        "outputId": "98040b02-64cf-4e53-cd3f-3f1280f8d815"
      },
      "execution_count": null,
      "outputs": [
        {
          "output_type": "stream",
          "name": "stdout",
          "text": [
            "{'_id': 'exam', 'avg_score': 48.67367075950175}\n",
            "{'_id': 'homework', 'avg_score': 67.81869620661149}\n",
            "{'_id': 'quiz', 'avg_score': 48.99672319430254}\n"
          ]
        }
      ]
    },
    {
      "cell_type": "markdown",
      "source": [
        "a)Students scored below 40%.\n",
        "#in the above cell I calculated the overall average score for [\"quiz\",'exam','homework']"
      ],
      "metadata": {
        "id": "Su2fFfNyoBcm"
      }
    },
    {
      "cell_type": "code",
      "source": [
        "#Students scored below 40%\n",
        "stage1 = {\"$unwind\":\"$scores\"}\n",
        "stage2 = {\"$match\":{\"scores.score\":{\"$lt\":40},\"scores.type\":\"exam\"}}\n",
        "stage3 = {\"$project\":{\"_id\":0,\"name\":1,\"scores.score\":1,\"scores.type\":1}}\n",
        "for i in my_col.aggregate([stage1,stage2,stage3]):\n",
        "  print(i)"
      ],
      "metadata": {
        "colab": {
          "base_uri": "https://localhost:8080/"
        },
        "id": "O8XtvihqlySf",
        "outputId": "7137b796-5597-4ab5-fb8d-d3dd15690d3b"
      },
      "execution_count": null,
      "outputs": [
        {
          "output_type": "stream",
          "name": "stdout",
          "text": [
            "{'name': 'aimee Zank', 'scores': {'score': 1.463179736705023, 'type': 'exam'}}\n",
            "{'name': 'Jenette Flanders', 'scores': {'score': 37.32285459166097, 'type': 'exam'}}\n",
            "{'name': 'Daphne Zheng', 'scores': {'score': 22.13583712862635, 'type': 'exam'}}\n",
            "{'name': 'Alix Sherrill', 'scores': {'score': 25.15924151998215, 'type': 'exam'}}\n",
            "{'name': 'Dodie Staller', 'scores': {'score': 7.772386442858281, 'type': 'exam'}}\n",
            "{'name': 'Fletcher Mcconnell', 'scores': {'score': 39.41011069729274, 'type': 'exam'}}\n",
            "{'name': 'Jonie Raby', 'scores': {'score': 19.17861192576963, 'type': 'exam'}}\n",
            "{'name': 'Edgar Sarkis', 'scores': {'score': 8.606983261043888, 'type': 'exam'}}\n",
            "{'name': 'Laureen Salomone', 'scores': {'score': 3.677565278992456, 'type': 'exam'}}\n",
            "{'name': 'Kaila Deibler', 'scores': {'score': 15.89771199662455, 'type': 'exam'}}\n",
            "{'name': 'Tandra Meadows', 'scores': {'score': 24.90138146001744, 'type': 'exam'}}\n",
            "{'name': 'Carli Belvins', 'scores': {'score': 7.112266875518214, 'type': 'exam'}}\n",
            "{'name': 'Synthia Labelle', 'scores': {'score': 27.22049103148209, 'type': 'exam'}}\n",
            "{'name': 'Richelle Siemers', 'scores': {'score': 34.64373397163318, 'type': 'exam'}}\n",
            "{'name': 'Mariette Batdorf', 'scores': {'score': 0.04381116979284005, 'type': 'exam'}}\n",
            "{'name': 'Aleida Elsass', 'scores': {'score': 28.02518041693717, 'type': 'exam'}}\n",
            "{'name': 'Ernestine Macfarland', 'scores': {'score': 15.29147856258362, 'type': 'exam'}}\n",
            "{'name': 'Lady Lefevers', 'scores': {'score': 16.89237820123443, 'type': 'exam'}}\n",
            "{'name': 'Barbera Lippman', 'scores': {'score': 35.43490750932609, 'type': 'exam'}}\n",
            "{'name': 'Alica Pasley', 'scores': {'score': 19.38544736721771, 'type': 'exam'}}\n",
            "{'name': 'Malisa Jeanes', 'scores': {'score': 33.44580005842922, 'type': 'exam'}}\n",
            "{'name': 'Danika Loeffler', 'scores': {'score': 21.54531707142236, 'type': 'exam'}}\n",
            "{'name': 'Joaquina Arbuckle', 'scores': {'score': 28.66671659815553, 'type': 'exam'}}\n",
            "{'name': 'Dusti Lemmond', 'scores': {'score': 17.27725327681863, 'type': 'exam'}}\n",
            "{'name': 'Rubie Winton', 'scores': {'score': 7.176062073558509, 'type': 'exam'}}\n",
            "{'name': 'Kim Xu', 'scores': {'score': 19.96531774799065, 'type': 'exam'}}\n",
            "{'name': 'Cody Strouth', 'scores': {'score': 4.784730508547719, 'type': 'exam'}}\n",
            "{'name': 'Harriett Velarde', 'scores': {'score': 33.7733570443736, 'type': 'exam'}}\n",
            "{'name': 'Leola Lundin', 'scores': {'score': 31.62936464207764, 'type': 'exam'}}\n",
            "{'name': 'Len Treiber', 'scores': {'score': 21.21850173315791, 'type': 'exam'}}\n",
            "{'name': 'Echo Pippins', 'scores': {'score': 27.77924608896123, 'type': 'exam'}}\n",
            "{'name': 'Santiago Dollins', 'scores': {'score': 33.48242310776701, 'type': 'exam'}}\n",
            "{'name': 'Tonisha Games', 'scores': {'score': 29.13833807032966, 'type': 'exam'}}\n",
            "{'name': 'Brain Lachapelle', 'scores': {'score': 2.013473187690951, 'type': 'exam'}}\n",
            "{'name': 'Toshiko Sabella', 'scores': {'score': 21.05570509531929, 'type': 'exam'}}\n",
            "{'name': 'Ty Barbieri', 'scores': {'score': 38.43781607953586, 'type': 'exam'}}\n",
            "{'name': 'Ta Sikorski', 'scores': {'score': 30.02140506101446, 'type': 'exam'}}\n",
            "{'name': 'Lucinda Vanderburg', 'scores': {'score': 27.55843343656866, 'type': 'exam'}}\n",
            "{'name': 'Darby Wass', 'scores': {'score': 6.867644836612586, 'type': 'exam'}}\n",
            "{'name': 'Omar Bowdoin', 'scores': {'score': 8.58858127638702, 'type': 'exam'}}\n",
            "{'name': 'Tania Hulett', 'scores': {'score': 21.84617015735916, 'type': 'exam'}}\n",
            "{'name': 'Karry Petrarca', 'scores': {'score': 3.677125771067413, 'type': 'exam'}}\n",
            "{'name': 'aimee Zank', 'scores': {'score': 15.91636686717778, 'type': 'exam'}}\n",
            "{'name': 'Aurelia Menendez', 'scores': {'score': 5.105728872755167, 'type': 'exam'}}\n",
            "{'name': 'Bao Ziglar', 'scores': {'score': 37.22753032391262, 'type': 'exam'}}\n",
            "{'name': 'Jenette Flanders', 'scores': {'score': 22.0445143239363, 'type': 'exam'}}\n",
            "{'name': 'Salena Olmos', 'scores': {'score': 0.8007809823509016, 'type': 'exam'}}\n",
            "{'name': 'Sanda Ryba', 'scores': {'score': 10.62413290291121, 'type': 'exam'}}\n",
            "{'name': 'Denisha Cast', 'scores': {'score': 2.723204808959712, 'type': 'exam'}}\n",
            "{'name': 'Fletcher Mcconnell', 'scores': {'score': 24.98670635479149, 'type': 'exam'}}\n",
            "{'name': 'Verdell Sowinski', 'scores': {'score': 20.1442549902647, 'type': 'exam'}}\n",
            "{'name': 'Gisela Levin', 'scores': {'score': 15.88727528055548, 'type': 'exam'}}\n",
            "{'name': 'Rosana Vales', 'scores': {'score': 15.73156258820246, 'type': 'exam'}}\n",
            "{'name': 'Tamika Schildgen', 'scores': {'score': 4.433956226109692, 'type': 'exam'}}\n",
            "{'name': 'Jesusa Rickenbacker', 'scores': {'score': 15.6237624645333, 'type': 'exam'}}\n",
            "{'name': 'Rudolph Domingo', 'scores': {'score': 33.02956040417582, 'type': 'exam'}}\n",
            "{'name': 'Jonie Raby', 'scores': {'score': 7.307863391324043, 'type': 'exam'}}\n",
            "{'name': 'Kaila Deibler', 'scores': {'score': 20.85988856264308, 'type': 'exam'}}\n",
            "{'name': 'Tandra Meadows', 'scores': {'score': 19.07796402740767, 'type': 'exam'}}\n",
            "{'name': 'Gwen Honig', 'scores': {'score': 35.99646382910844, 'type': 'exam'}}\n",
            "{'name': 'Sadie Jernigan', 'scores': {'score': 6.14281392478545, 'type': 'exam'}}\n",
            "{'name': 'Synthia Labelle', 'scores': {'score': 11.06312649271668, 'type': 'exam'}}\n",
            "{'name': 'Ernestine Macfarland', 'scores': {'score': 9.666623747888858, 'type': 'exam'}}\n",
            "{'name': 'Kurtis Jiles', 'scores': {'score': 38.84932631249875, 'type': 'exam'}}\n",
            "{'name': 'Barbera Lippman', 'scores': {'score': 10.1210778879972, 'type': 'exam'}}\n",
            "{'name': 'Dinah Sauve', 'scores': {'score': 9.660849614328693, 'type': 'exam'}}\n",
            "{'name': 'Elizabet Kleine', 'scores': {'score': 23.35599596646158, 'type': 'exam'}}\n",
            "{'name': 'Joel Rueter', 'scores': {'score': 21.78981361637835, 'type': 'exam'}}\n",
            "{'name': 'Joaquina Arbuckle', 'scores': {'score': 35.43562368815135, 'type': 'exam'}}\n",
            "{'name': 'Grady Zemke', 'scores': {'score': 10.37320113489379, 'type': 'exam'}}\n",
            "{'name': 'Rubie Winton', 'scores': {'score': 36.1767454709986, 'type': 'exam'}}\n",
            "{'name': 'Whitley Fears', 'scores': {'score': 20.84454374176408, 'type': 'exam'}}\n",
            "{'name': 'Kim Xu', 'scores': {'score': 29.1596029917098, 'type': 'exam'}}\n",
            "{'name': 'Merissa Mann', 'scores': {'score': 0.7300279717432967, 'type': 'exam'}}\n",
            "{'name': 'Cody Strouth', 'scores': {'score': 32.99854612126559, 'type': 'exam'}}\n",
            "{'name': 'Leonida Lafond', 'scores': {'score': 8.125073097960179, 'type': 'exam'}}\n",
            "{'name': 'Devorah Smartt', 'scores': {'score': 23.94616611315642, 'type': 'exam'}}\n",
            "{'name': 'Len Treiber', 'scores': {'score': 39.19832917406515, 'type': 'exam'}}\n",
            "{'name': 'Echo Pippins', 'scores': {'score': 18.09013691507853, 'type': 'exam'}}\n",
            "{'name': 'Tonisha Games', 'scores': {'score': 38.51269589995049, 'type': 'exam'}}\n",
            "{'name': 'Timothy Harrod', 'scores': {'score': 11.9075674046519, 'type': 'exam'}}\n"
          ]
        }
      ]
    },
    {
      "cell_type": "markdown",
      "source": [
        "3)Find students who scored below pass mark and assigned them as fail, and above pass mark as pass in all the categories."
      ],
      "metadata": {
        "id": "o-wNbAE1o7wX"
      }
    },
    {
      "cell_type": "code",
      "source": [
        "#I am considering below 40 marks as faile and i am adding new column [\"Exam_result\"] and assigned them as fail\n",
        "stage1 = {\"$unwind\":\"$scores\"}\n",
        "stage2 = {\"$match\":{\"scores.score\":{\"$lt\":40}}}  \n",
        "stage4 = {\"$addFields\":{'Exam_Result':'Fail'}}\n",
        "stage3 = {\"$project\":{\"_id\":0,\"name\":1,\"scores.score\":1,\"scores.type\":1}}\n",
        "\n",
        "for i in my_col.aggregate([stage1,stage2,stage3,stage4]):\n",
        "\n",
        "    pprint(i) "
      ],
      "metadata": {
        "id": "2C12L7Z_3PbC"
      },
      "execution_count": null,
      "outputs": []
    },
    {
      "cell_type": "code",
      "source": [
        "# I am considering above 40 marks as faile and i am adding new column [\"Exam_result\"] and assigned them as pass\n",
        "stage1 = {\"$unwind\":\"$scores\"}\n",
        "stage2 = {\"$match\":{\"scores.score\":{\"$gte\":40}}}  \n",
        "stage4 = {\"$addFields\":{'Exam_Result':'Pass'}}\n",
        "stage3 = {\"$project\":{\"_id\":0,\"name\":1,\"scores.score\":1,\"scores.type\":1}}\n",
        "for i in my_col.aggregate([stage1,stage2,stage3,stage4]):\n",
        "\n",
        "    pprint(i)\n"
      ],
      "metadata": {
        "id": "zWWun04rEUAO"
      },
      "execution_count": null,
      "outputs": []
    },
    {
      "cell_type": "markdown",
      "source": [
        "4)       Find the total and average of the exam, quiz and homework and store them in a separate collection."
      ],
      "metadata": {
        "id": "vIZ-agdzSuF3"
      }
    },
    {
      "cell_type": "code",
      "source": [
        "#finding the average of the exam, quiz and homework and store them in a separate collection.\n",
        "Average =[]\n",
        "stage1 = {\"$unwind\":\"$scores\"}\n",
        "stage2 = {\"$group\": {\"_id\":\"$scores.type\", \"avg_score\":{\"$avg\":\"$scores.score\"}}}\n",
        "for i in my_col.aggregate([stage1,stage2]):\n",
        "  Average.append(i)\n",
        "print(Average)\n"
      ],
      "metadata": {
        "colab": {
          "base_uri": "https://localhost:8080/"
        },
        "id": "cCg5LqnpSvwW",
        "outputId": "1d795aea-8b91-466f-ccd3-0bf7e519905e"
      },
      "execution_count": null,
      "outputs": [
        {
          "output_type": "stream",
          "name": "stdout",
          "text": [
            "[{'_id': 'quiz', 'avg_score': 48.99672319430254}, {'_id': 'homework', 'avg_score': 67.81869620661149}, {'_id': 'exam', 'avg_score': 48.67367075950175}]\n"
          ]
        }
      ]
    },
    {
      "cell_type": "code",
      "source": [
        "Avg_3scores_col = db.Total_AVG_Score_col\n",
        "Avg_3scores_col.insert_many(Average)"
      ],
      "metadata": {
        "colab": {
          "base_uri": "https://localhost:8080/"
        },
        "id": "NMPoQmzpUOs1",
        "outputId": "3f9b4968-7498-4906-a8bd-0bc0c1a36eba"
      },
      "execution_count": null,
      "outputs": [
        {
          "output_type": "execute_result",
          "data": {
            "text/plain": [
              "<pymongo.results.InsertManyResult at 0x7fabfc100b50>"
            ]
          },
          "metadata": {},
          "execution_count": 42
        }
      ]
    },
    {
      "cell_type": "code",
      "source": [
        "##finding  total score of the exam, quiz and homework and store them in a separate collection.\n",
        "\n",
        "Total_score =[]\n",
        "stage1 = {\"$unwind\":\"$scores\"}\n",
        "stage2 = {\"$group\": {\"_id\":\"$scores.type\", \"total_score\":{\"$sum\":\"$scores.score\"}}}\n",
        "for i in my_col.aggregate([stage1,stage2]):\n",
        "  Total_score.append(i)\n",
        "print(Total_score)\n"
      ],
      "metadata": {
        "colab": {
          "base_uri": "https://localhost:8080/"
        },
        "id": "ZwtbfP-KUsQp",
        "outputId": "c346c177-b961-4431-e0f4-ea79dfed8ef5"
      },
      "execution_count": null,
      "outputs": [
        {
          "output_type": "stream",
          "name": "stdout",
          "text": [
            "[{'_id': 'quiz', 'total_score': 9799.344638860508}, {'_id': 'exam', 'total_score': 9734.734151900351}, {'_id': 'homework', 'total_score': 13563.739241322297}]\n"
          ]
        }
      ]
    },
    {
      "cell_type": "code",
      "source": [
        "#Updating in the separate collection\n",
        "total_score_col = db.Total_Scores_collection\n",
        "total_score_col.insert_many(Total_score)\n"
      ],
      "metadata": {
        "colab": {
          "base_uri": "https://localhost:8080/"
        },
        "id": "WfhQit83Vtwu",
        "outputId": "cf90e42b-99b0-42f6-9253-fd38d8ffa49f"
      },
      "execution_count": null,
      "outputs": [
        {
          "output_type": "execute_result",
          "data": {
            "text/plain": [
              "<pymongo.results.InsertManyResult at 0x7fac052b65b0>"
            ]
          },
          "metadata": {},
          "execution_count": 46
        }
      ]
    },
    {
      "cell_type": "markdown",
      "source": [
        "5)      Create a new collection which consists of students who scored below average and above 40% in all the categories."
      ],
      "metadata": {
        "id": "mDwsCuJ8G5-E"
      }
    },
    {
      "cell_type": "code",
      "source": [
        "data = []\n",
        "\n",
        "stage1 = {\"$unwind\":\"$scores\"}\n",
        "stage2 = {\"$match\":{\"scores.score\":{\"$gte\":40,\"$lt\":48}}}  \n",
        "stage4 = {\"$addFields\":{'Exam_Result':'Pass'}}\n",
        "stage3 = {\"$project\":{\"_id\":0,\"name\":1,\"scores.score\":1,\"scores.type\":1}}\n",
        "for i in my_col.aggregate([stage1,stage2,stage3,stage4]):\n",
        "  data.append(i)\n",
        "print(data)\n",
        "   "
      ],
      "metadata": {
        "id": "CuevgynsHJBU"
      },
      "execution_count": null,
      "outputs": []
    },
    {
      "cell_type": "code",
      "source": [
        "#creating new collection and inserting this collected data\n",
        "db = client['marks']\n",
        "avg_col = db.avg_student_col_marks\n",
        "avg_col.insert_many(data)"
      ],
      "metadata": {
        "colab": {
          "base_uri": "https://localhost:8080/"
        },
        "id": "WPIZt2yxQBCP",
        "outputId": "6889a05c-abd0-450d-d278-070ae91a746d"
      },
      "execution_count": null,
      "outputs": [
        {
          "output_type": "execute_result",
          "data": {
            "text/plain": [
              "<pymongo.results.InsertManyResult at 0x7fac07ee2e50>"
            ]
          },
          "metadata": {},
          "execution_count": 38
        }
      ]
    },
    {
      "cell_type": "markdown",
      "source": [
        "6)      Create a new collection which consists of students who scored below the fail mark in all the categories."
      ],
      "metadata": {
        "id": "vFGVbvR6WYDA"
      }
    },
    {
      "cell_type": "code",
      "source": [
        "Fail_Marks = []\n",
        "\n",
        "#I am considering below 40 marks as faile and i am adding new column [\"Exam_result\"] and assigned them as fail\n",
        "stage1 = {\"$unwind\":\"$scores\"}\n",
        "stage2 = {\"$match\":{\"scores.score\":{\"$lt\":40}}}  \n",
        "stage4 = {\"$addFields\":{'Exam_Result':'Fail'}}\n",
        "stage3 = {\"$project\":{\"_id\":0,\"name\":1,\"scores.score\":1,\"scores.type\":1}}\n",
        "\n",
        "for i in my_col.aggregate([stage1,stage2,stage3,stage4]):\n",
        "  #pprint(i)\n",
        "  Fail_Marks.append(i)\n",
        "  print(Fail_Marks)\n",
        "\n",
        "\n",
        "\n",
        "\n"
      ],
      "metadata": {
        "id": "FpoMUaypSeLc"
      },
      "execution_count": null,
      "outputs": []
    },
    {
      "cell_type": "code",
      "source": [
        "fail_mark_col = db.Fail_students_catogery_col\n",
        "fail_mark_col.insert_many(Fail_Marks)"
      ],
      "metadata": {
        "colab": {
          "base_uri": "https://localhost:8080/"
        },
        "id": "XAWK12zccAVh",
        "outputId": "71faea27-79f2-4d51-d493-8b25d10bdd19"
      },
      "execution_count": null,
      "outputs": [
        {
          "output_type": "execute_result",
          "data": {
            "text/plain": [
              "<pymongo.results.InsertManyResult at 0x7fabfbf69310>"
            ]
          },
          "metadata": {},
          "execution_count": 55
        }
      ]
    },
    {
      "cell_type": "code",
      "source": [
        "#To check the data inserted or not \n",
        "fail_mark_col.find_one()"
      ],
      "metadata": {
        "colab": {
          "base_uri": "https://localhost:8080/"
        },
        "id": "JokgQ78wcuh6",
        "outputId": "8b19b8ac-b20b-4480-8e61-7cd8f7bb05d1"
      },
      "execution_count": null,
      "outputs": [
        {
          "output_type": "execute_result",
          "data": {
            "text/plain": [
              "{'_id': ObjectId('63d51e99e732936a798294bc'),\n",
              " 'name': 'aimee Zank',\n",
              " 'scores': {'score': 1.463179736705023, 'type': 'exam'},\n",
              " 'Exam_Result': 'Fail'}"
            ]
          },
          "metadata": {},
          "execution_count": 56
        }
      ]
    },
    {
      "cell_type": "markdown",
      "source": [
        "7)      Create a new collection which consists of students who scored above pass mark in all the categories."
      ],
      "metadata": {
        "id": "hZmswOL4dNzK"
      }
    },
    {
      "cell_type": "code",
      "source": [
        "Pass_Students = []\n",
        "\n",
        "stage1 = {\"$unwind\":\"$scores\"}\n",
        "stage2 = {\"$match\":{\"scores.score\":{\"$gte\":40}}}  \n",
        "stage3 = {\"$project\":{\"_id\":0,\"name\":1,\"scores.score\":1,\"scores.type\":1}}\n",
        "stage4 = {\"$addFields\":{'Exam_Result':'Pass'}}\n",
        "for i in my_col.aggregate([stage1,stage2,stage3,stage4]):\n",
        "  # pprint(i)\n",
        "\n",
        "  Pass_Students.append(i)\n",
        "print(Pass_Students)\n",
        "\n",
        "\n",
        "\n"
      ],
      "metadata": {
        "id": "Ft6humKGc-Fa"
      },
      "execution_count": null,
      "outputs": []
    },
    {
      "cell_type": "code",
      "source": [
        "#Updating in separate collection\n",
        "Pass_Students_col = db.Pass_Students_collection\n",
        "\n",
        "Pass_Students_col.insert_many(Pass_Students)"
      ],
      "metadata": {
        "colab": {
          "base_uri": "https://localhost:8080/"
        },
        "id": "OaFwo075hxPH",
        "outputId": "b53bc02d-0ac4-4d47-b440-c74def1f3952"
      },
      "execution_count": null,
      "outputs": [
        {
          "output_type": "execute_result",
          "data": {
            "text/plain": [
              "<pymongo.results.InsertManyResult at 0x7fabfbf87f70>"
            ]
          },
          "metadata": {},
          "execution_count": 63
        }
      ]
    },
    {
      "cell_type": "code",
      "source": [
        "Pass_Students_col.find_one()"
      ],
      "metadata": {
        "colab": {
          "base_uri": "https://localhost:8080/"
        },
        "id": "mza46vuxhZCS",
        "outputId": "b112434d-e2e7-41a6-cb2d-be528edbc6e2"
      },
      "execution_count": null,
      "outputs": [
        {
          "output_type": "execute_result",
          "data": {
            "text/plain": [
              "{'_id': ObjectId('63d5215ae732936a79829580'),\n",
              " 'name': 'Aurelia Menendez',\n",
              " 'scores': {'score': 60.06045071030959, 'type': 'exam'},\n",
              " 'Exam_Result': 'Pass'}"
            ]
          },
          "metadata": {},
          "execution_count": 65
        }
      ]
    }
  ]
}